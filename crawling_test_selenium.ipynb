{
 "cells": [
  {
   "cell_type": "code",
   "execution_count": 40,
   "metadata": {},
   "outputs": [],
   "source": [
    "# 필요한 모듈 import \n",
    "import requests\n",
    "import time\n",
    "import pandas as pd\n",
    "from selenium import webdriver\n",
    "from PIL import Image as pil"
   ]
  },
  {
   "cell_type": "code",
   "execution_count": 41,
   "metadata": {},
   "outputs": [],
   "source": [
    "# 서버에서 진행할 예정이라 option 이용하여 headless 설정\n",
    "options = webdriver.ChromeOptions()\n",
    "options.add_argument(\"headless\")\n",
    "options.add_argument(\"window-size=1920x1080\")\n",
    "driver =  webdriver.Chrome(options=options)"
   ]
  },
  {
   "cell_type": "code",
   "execution_count": 42,
   "metadata": {},
   "outputs": [],
   "source": [
    "# url 설정\n",
    "url = \"https://m.naver.com/history/?menu=PLACE_09\"\n",
    "driver.get(url)"
   ]
  },
  {
   "cell_type": "code",
   "execution_count": 43,
   "metadata": {},
   "outputs": [],
   "source": [
    "# 지금 어느 페이지에 있는지 확인하려면 스크린샷\n",
    "# driver.save_screenshot(\"naver.png\")\n",
    "# driver.quit()"
   ]
  },
  {
   "cell_type": "code",
   "execution_count": 44,
   "metadata": {},
   "outputs": [],
   "source": [
    "# 저장한 이미지 확인\n",
    "# pil_im = pil.open(\"naver_main.png\")\n",
    "# pil_im"
   ]
  },
  {
   "cell_type": "code",
   "execution_count": 46,
   "metadata": {},
   "outputs": [
    {
     "data": {
      "text/plain": [
       "5"
      ]
     },
     "execution_count": 46,
     "metadata": {},
     "output_type": "execute_result"
    }
   ],
   "source": [
    "blog = driver.find_elements_by_css_selector(\".cvr_list_item\")\n",
    "len(blog)\n",
    "\n",
    "# #mflick > div > div:nth-child(2) > div > div.grid1_wrap.brick-house > div:nth-child(2) > div.grid1.id_cui_video_ranking > div > div.cvr_list_wrap > ol > li:nth-child(1) > a > div.cvr_li_info > h4"
   ]
  },
  {
   "cell_type": "code",
   "execution_count": 69,
   "metadata": {
    "scrolled": true
   },
   "outputs": [
    {
     "data": {
      "text/plain": [
       "<selenium.webdriver.remote.webelement.WebElement (session=\"207ecc07cdf80d6efc37c15d8ec60196\", element=\"ae7b303b-2ec9-4be4-afe8-304a16fc0e52\")>"
      ]
     },
     "execution_count": 69,
     "metadata": {},
     "output_type": "execute_result"
    }
   ],
   "source": [
    "blog[0]"
   ]
  },
  {
   "cell_type": "code",
   "execution_count": 79,
   "metadata": {},
   "outputs": [
    {
     "data": {
      "text/plain": [
       "('순위\\n1\\n지구를 위한 착한 소비! 서울 제로웨이트샵 5곳 추천',\n",
       " 'https://m.blog.naver.com/korea_diary/222058601711')"
      ]
     },
     "execution_count": 79,
     "metadata": {},
     "output_type": "execute_result"
    }
   ],
   "source": [
    "title = blog[0].find_element_by_css_selector(\"li:nth-child(1) > a\").text\n",
    "link = blog[0].find_element_by_css_selector(\"li:nth-child(1) > a\").get_attribute(\"href\")\n",
    "title, link"
   ]
  },
  {
   "cell_type": "code",
   "execution_count": null,
   "metadata": {},
   "outputs": [],
   "source": []
  },
  {
   "cell_type": "code",
   "execution_count": null,
   "metadata": {},
   "outputs": [],
   "source": []
  },
  {
   "cell_type": "code",
   "execution_count": null,
   "metadata": {},
   "outputs": [],
   "source": []
  },
  {
   "cell_type": "code",
   "execution_count": null,
   "metadata": {},
   "outputs": [],
   "source": []
  },
  {
   "cell_type": "code",
   "execution_count": null,
   "metadata": {},
   "outputs": [],
   "source": []
  },
  {
   "cell_type": "code",
   "execution_count": null,
   "metadata": {},
   "outputs": [],
   "source": []
  },
  {
   "cell_type": "code",
   "execution_count": null,
   "metadata": {},
   "outputs": [],
   "source": []
  },
  {
   "cell_type": "code",
   "execution_count": null,
   "metadata": {},
   "outputs": [],
   "source": []
  },
  {
   "cell_type": "code",
   "execution_count": 1,
   "metadata": {},
   "outputs": [],
   "source": [
    "# 필요한 모듈 불러오기 \n",
    "import requests\n",
    "import scrapy\n",
    "import re\n",
    "from scrapy.http import TextResponse"
   ]
  },
  {
   "cell_type": "code",
   "execution_count": 2,
   "metadata": {},
   "outputs": [
    {
     "name": "stdout",
     "output_type": "stream",
     "text": [
      "New Scrapy project 'my_area', using template directory '/Users/yeongwoong/opt/anaconda3/lib/python3.7/site-packages/scrapy/templates/project', created in:\r\n",
      "    /Users/yeongwoong/dss_workspace/crawling/test/crawling-5-project/my_area\r\n",
      "\r\n",
      "You can start your first spider with:\r\n",
      "    cd my_area\r\n",
      "    scrapy genspider example example.com\r\n"
     ]
    }
   ],
   "source": [
    "# 스크래피 프로젝트 생성\n",
    "!rm -rf my_area\n",
    "!scrapy startproject my_area"
   ]
  },
  {
   "cell_type": "code",
   "execution_count": 3,
   "metadata": {},
   "outputs": [],
   "source": [
    "# items.py 설정하여 수집할 데이터 설정\n",
    "#    good = scrapy.Field()\n",
    "    "
   ]
  },
  {
   "cell_type": "code",
   "execution_count": 4,
   "metadata": {
    "scrolled": true
   },
   "outputs": [
    {
     "name": "stdout",
     "output_type": "stream",
     "text": [
      "Overwriting my_area/my_area/items.py\n"
     ]
    }
   ],
   "source": [
    "%%writefile my_area/my_area/items.py\n",
    "\n",
    "import scrapy\n",
    "\n",
    "class My_areaItem(scrapy.Item):\n",
    "    title = scrapy.Field()\n",
    "    comment = scrapy.Field()\n",
    "    day = scrapy.Field()\n",
    "    link = scrapy.Field()"
   ]
  },
  {
   "cell_type": "code",
   "execution_count": 5,
   "metadata": {
    "scrolled": true
   },
   "outputs": [
    {
     "name": "stdout",
     "output_type": "stream",
     "text": [
      "https://m.blog.naver.com/korea_diary/222058601711\n"
     ]
    },
    {
     "data": {
      "text/plain": [
       "5"
      ]
     },
     "execution_count": 5,
     "metadata": {},
     "output_type": "execute_result"
    }
   ],
   "source": [
    "# url 설정하여 들어갈 링크지정 / best contects 5개\n",
    "url = \"https://m.naver.com/history/?menu=PLACE_09\"\n",
    "req = requests.get(url)\n",
    "response = TextResponse(req.url, body=req.text, encoding=\"utf-8\")\n",
    "links = response.xpath('//*[@id=\"mflick\"]/div/div[2]/div/div[1]/div[1]')[0].xpath('//*[@class=\"cvr_list_item\"]/a/@href').extract()\n",
    "print(links[0])\n",
    "len(links)"
   ]
  },
  {
   "cell_type": "code",
   "execution_count": 8,
   "metadata": {},
   "outputs": [
    {
     "data": {
      "text/plain": [
       "'https://m.blog.naver.com/korea_diary/222058601711'"
      ]
     },
     "execution_count": 8,
     "metadata": {},
     "output_type": "execute_result"
    }
   ],
   "source": [
    "# link 수집\n",
    "link = response.urljoin(links[0])\n",
    "link"
   ]
  },
  {
   "cell_type": "code",
   "execution_count": 9,
   "metadata": {},
   "outputs": [],
   "source": [
    "req = requests.get(link)\n",
    "response = TextResponse(req.url, body=req.text, encoding=\"utf-8\")"
   ]
  },
  {
   "cell_type": "code",
   "execution_count": 10,
   "metadata": {},
   "outputs": [
    {
     "data": {
      "text/plain": [
       "'https://m.blog.naver.com/korea_diary/222058601711'"
      ]
     },
     "execution_count": 10,
     "metadata": {},
     "output_type": "execute_result"
    }
   ],
   "source": [
    "links[0]"
   ]
  },
  {
   "cell_type": "code",
   "execution_count": 11,
   "metadata": {},
   "outputs": [
    {
     "data": {
      "text/plain": [
       "<200 https://m.blog.naver.com/korea_diary/222058601711>"
      ]
     },
     "execution_count": 11,
     "metadata": {},
     "output_type": "execute_result"
    }
   ],
   "source": [
    "response\n",
    "# //*[@id=\"SE-1eafad66-861a-4d1e-9f86-ed41ed188e4e\"]"
   ]
  },
  {
   "cell_type": "code",
   "execution_count": 20,
   "metadata": {},
   "outputs": [
    {
     "data": {
      "text/plain": [
       "'지구🌎를 위한 착한 소비! 서울 제로 웨이스트샵 5▶더피커, 디어얼스, 송포어스, 알맹상점, 지구샵◀서울 가볼만한곳'"
      ]
     },
     "execution_count": 20,
     "metadata": {},
     "output_type": "execute_result"
    }
   ],
   "source": [
    "# 매일 타이틀 수정 필요\n",
    "\n",
    "title = response.xpath('//*[@id=\"SE-8a8f689b-0dec-436c-bf36-9aef9cc9d639\"]/text()').extract()[0]\n",
    "title"
   ]
  },
  {
   "cell_type": "code",
   "execution_count": 15,
   "metadata": {
    "scrolled": true
   },
   "outputs": [
    {
     "ename": "IndexError",
     "evalue": "list index out of range",
     "output_type": "error",
     "traceback": [
      "\u001b[0;31m---------------------------------------------------------------------------\u001b[0m",
      "\u001b[0;31mIndexError\u001b[0m                                Traceback (most recent call last)",
      "\u001b[0;32m<ipython-input-15-9db1efcfbc15>\u001b[0m in \u001b[0;36m<module>\u001b[0;34m\u001b[0m\n\u001b[1;32m      1\u001b[0m \u001b[0;31m# 데이터 확인 구문\u001b[0m\u001b[0;34m\u001b[0m\u001b[0;34m\u001b[0m\u001b[0;34m\u001b[0m\u001b[0m\n\u001b[0;32m----> 2\u001b[0;31m \u001b[0mtitle\u001b[0m \u001b[0;34m=\u001b[0m \u001b[0mresponse\u001b[0m\u001b[0;34m.\u001b[0m\u001b[0mxpath\u001b[0m\u001b[0;34m(\u001b[0m\u001b[0;34m'//*[@id=\"SE-34941879-7272-46c4-b494-066d46aaec3b\"]/text()'\u001b[0m\u001b[0;34m)\u001b[0m\u001b[0;34m.\u001b[0m\u001b[0mextract\u001b[0m\u001b[0;34m(\u001b[0m\u001b[0;34m)\u001b[0m\u001b[0;34m[\u001b[0m\u001b[0;36m0\u001b[0m\u001b[0;34m]\u001b[0m\u001b[0;34m\u001b[0m\u001b[0;34m\u001b[0m\u001b[0m\n\u001b[0m\u001b[1;32m      3\u001b[0m \u001b[0mtitle\u001b[0m\u001b[0;34m\u001b[0m\u001b[0;34m\u001b[0m\u001b[0m\n",
      "\u001b[0;31mIndexError\u001b[0m: list index out of range"
     ]
    }
   ],
   "source": [
    "# 데이터 확인 구문\n",
    "title = response.xpath('//*[@id=\"SE-34941879-7272-46c4-b494-066d46aaec3b\"]/text()').extract()[0]\n",
    "title"
   ]
  },
  {
   "cell_type": "code",
   "execution_count": 151,
   "metadata": {},
   "outputs": [
    {
     "data": {
      "text/plain": [
       "('낮에는 등산 맛집, 밤에는 야경 맛집! 매봉산 등산로&팔각정',\n",
       " '2020. 8. 3. 16:40',\n",
       " '2',\n",
       " 'https://m.blog.naver.com/hot2hot2seoul/222049999104')"
      ]
     },
     "execution_count": 151,
     "metadata": {},
     "output_type": "execute_result"
    }
   ],
   "source": [
    "title = response.xpath('//*[@id=\"SE-34941879-7272-46c4-b494-066d46aaec3b\"]/text()').extract()[0]\n",
    "day = response.xpath('//*[@id=\"SE-0bcb5c34-10d6-46a2-976d-0437c9a0bf58\"]/div/div/div[3]/p/text()').extract()[0].strip()\n",
    "comment = response.xpath('//*[@id=\"ct\"]/div[4]/div[3]/div/div[2]/a[1]/em/text()').extract()[0]\n",
    "\n",
    "\n",
    "title, day, comment, link"
   ]
  },
  {
   "cell_type": "code",
   "execution_count": 117,
   "metadata": {},
   "outputs": [],
   "source": [
    "# spider.py 작성"
   ]
  },
  {
   "cell_type": "code",
   "execution_count": null,
   "metadata": {},
   "outputs": [],
   "source": [
    "# 날짜는 같음\n",
    "\n",
    "//*[@id=\"SE-0bcb5c34-10d6-46a2-976d-0437c9a0bf58\"]/div/div/div[3]/p\n",
    "//*[@id=\"SE-0bcb5c34-10d6-46a2-976d-0437c9a0bf58\"]/div/div/div[3]/p\n",
    "# 제목끼리 xpath가 다름\n",
    "\n",
    "//*[@id=\"SE-5bdbe95a-a7cb-4073-ac6d-d02355f5cc01\"]\n",
    "//*[@id=\"SE-34941879-7272-46c4-b494-066d46aaec3b\"]"
   ]
  },
  {
   "cell_type": "code",
   "execution_count": 161,
   "metadata": {},
   "outputs": [
    {
     "name": "stdout",
     "output_type": "stream",
     "text": [
      "Overwriting my_area/my_area/spiders/spider.py\n"
     ]
    }
   ],
   "source": [
    "%%writefile my_area/my_area/spiders/spider.py\n",
    "import scrapy\n",
    "from my_area.items import My_areaItem\n",
    "\n",
    "class AreaSpider(scrapy.Spider):\n",
    "    name = \"MyArea\"\n",
    "    allow_domain = [\"https://m.naver.com\"]\n",
    "    start_urls = [\"https://m.naver.com/history/?menu=PLACE_09\"]\n",
    "    \n",
    "    def parse(self, response):\n",
    "        links = response.xpath('//*[@id=\"mflick\"]/div/div[2]/div/div[1]/div[1]')[0].xpath('//*[@class=\"cvr_list_item\"]/a/@href').extract()\n",
    "        for link in links:\n",
    "            link = response.urljoin(link)\n",
    "            yield scrapy.Request(link, callback=self.parse_contents)\n",
    "                        \n",
    "    def parse_contents(self, response):\n",
    "        item = My_areaItem()\n",
    "        item[\"title\"] = response.xpath('//*[@id=\"SE-34941879-7272-46c4-b494-066d46aaec3b\"]/text()').extract()[0]\n",
    "        item[\"day\"] = response.xpath('//*[@id=\"SE-0bcb5c34-10d6-46a2-976d-0437c9a0bf58\"]/div/div/div[3]/p/text()').extract()[0].strip()\n",
    "        item[\"comment\"] = response.xpath('//*[@id=\"ct\"]/div[4]/div[3]/div/div[2]/a[1]/em/text()').extract()[0]\n",
    "        item[\"link\"] = response.url\n",
    "        yield item"
   ]
  },
  {
   "cell_type": "code",
   "execution_count": 174,
   "metadata": {},
   "outputs": [
    {
     "name": "stdout",
     "output_type": "stream",
     "text": [
      "Overwriting run.sh\n"
     ]
    }
   ],
   "source": [
    "%%writefile run.sh\n",
    "rm my_area/myarea.csv\n",
    "cd my_area\n",
    "scrapy crawl MyArea -o myarea.csv"
   ]
  },
  {
   "cell_type": "code",
   "execution_count": 175,
   "metadata": {},
   "outputs": [],
   "source": [
    "!chmod +x run.sh"
   ]
  },
  {
   "cell_type": "code",
   "execution_count": 176,
   "metadata": {
    "scrolled": true
   },
   "outputs": [
    {
     "name": "stdout",
     "output_type": "stream",
     "text": [
      "2020-08-17 17:44:17 [scrapy.utils.log] INFO: Scrapy 2.3.0 started (bot: my_area)\n",
      "2020-08-17 17:44:17 [scrapy.utils.log] INFO: Versions: lxml 4.5.2.0, libxml2 2.9.10, cssselect 1.1.0, parsel 1.6.0, w3lib 1.22.0, Twisted 20.3.0, Python 3.6.9 (default, Jul 10 2020, 02:27:22) - [GCC 7.5.0], pyOpenSSL 19.1.0 (OpenSSL 1.1.1g  21 Apr 2020), cryptography 3.0, Platform Linux-5.3.0-1032-aws-x86_64-with-debian-buster-sid\n",
      "2020-08-17 17:44:17 [scrapy.utils.log] DEBUG: Using reactor: twisted.internet.epollreactor.EPollReactor\n",
      "2020-08-17 17:44:17 [scrapy.crawler] INFO: Overridden settings:\n",
      "{'BOT_NAME': 'my_area',\n",
      " 'NEWSPIDER_MODULE': 'my_area.spiders',\n",
      " 'SPIDER_MODULES': ['my_area.spiders']}\n",
      "2020-08-17 17:44:17 [scrapy.extensions.telnet] INFO: Telnet Password: 18c04c2dc0353776\n",
      "2020-08-17 17:44:17 [scrapy.middleware] INFO: Enabled extensions:\n",
      "['scrapy.extensions.corestats.CoreStats',\n",
      " 'scrapy.extensions.telnet.TelnetConsole',\n",
      " 'scrapy.extensions.memusage.MemoryUsage',\n",
      " 'scrapy.extensions.feedexport.FeedExporter',\n",
      " 'scrapy.extensions.logstats.LogStats']\n",
      "2020-08-17 17:44:17 [scrapy.middleware] INFO: Enabled downloader middlewares:\n",
      "['scrapy.downloadermiddlewares.httpauth.HttpAuthMiddleware',\n",
      " 'scrapy.downloadermiddlewares.downloadtimeout.DownloadTimeoutMiddleware',\n",
      " 'scrapy.downloadermiddlewares.defaultheaders.DefaultHeadersMiddleware',\n",
      " 'scrapy.downloadermiddlewares.useragent.UserAgentMiddleware',\n",
      " 'scrapy.downloadermiddlewares.retry.RetryMiddleware',\n",
      " 'scrapy.downloadermiddlewares.redirect.MetaRefreshMiddleware',\n",
      " 'scrapy.downloadermiddlewares.httpcompression.HttpCompressionMiddleware',\n",
      " 'scrapy.downloadermiddlewares.redirect.RedirectMiddleware',\n",
      " 'scrapy.downloadermiddlewares.cookies.CookiesMiddleware',\n",
      " 'scrapy.downloadermiddlewares.httpproxy.HttpProxyMiddleware',\n",
      " 'scrapy.downloadermiddlewares.stats.DownloaderStats']\n",
      "2020-08-17 17:44:17 [scrapy.middleware] INFO: Enabled spider middlewares:\n",
      "['scrapy.spidermiddlewares.httperror.HttpErrorMiddleware',\n",
      " 'scrapy.spidermiddlewares.offsite.OffsiteMiddleware',\n",
      " 'scrapy.spidermiddlewares.referer.RefererMiddleware',\n",
      " 'scrapy.spidermiddlewares.urllength.UrlLengthMiddleware',\n",
      " 'scrapy.spidermiddlewares.depth.DepthMiddleware']\n",
      "2020-08-17 17:44:17 [scrapy.middleware] INFO: Enabled item pipelines:\n",
      "[]\n",
      "2020-08-17 17:44:17 [scrapy.core.engine] INFO: Spider opened\n",
      "2020-08-17 17:44:17 [scrapy.extensions.logstats] INFO: Crawled 0 pages (at 0 pages/min), scraped 0 items (at 0 items/min)\n",
      "2020-08-17 17:44:17 [scrapy.extensions.telnet] INFO: Telnet console listening on 127.0.0.1:6023\n",
      "2020-08-17 17:44:17 [scrapy.core.engine] DEBUG: Crawled (200) <GET https://m.naver.com/history/?menu=PLACE_09> (referer: None)\n",
      "2020-08-17 17:44:17 [scrapy.core.engine] DEBUG: Crawled (200) <GET https://m.blog.naver.com/120seoulcall/222037082183> (referer: https://m.naver.com/history/?menu=PLACE_09)\n",
      "2020-08-17 17:44:17 [scrapy.core.engine] DEBUG: Crawled (200) <GET https://m.blog.naver.com/mirae_saram/222044126140> (referer: https://m.naver.com/history/?menu=PLACE_09)\n",
      "2020-08-17 17:44:17 [scrapy.core.engine] DEBUG: Crawled (200) <GET https://m.blog.naver.com/hot2hot2seoul/222049999104> (referer: https://m.naver.com/history/?menu=PLACE_09)\n",
      "2020-08-17 17:44:18 [scrapy.core.engine] DEBUG: Crawled (200) <GET https://m.blog.naver.com/mcstkorea/222008543347> (referer: https://m.naver.com/history/?menu=PLACE_09)\n",
      "2020-08-17 17:44:18 [scrapy.core.scraper] ERROR: Spider error processing <GET https://m.blog.naver.com/120seoulcall/222037082183> (referer: https://m.naver.com/history/?menu=PLACE_09)\n",
      "Traceback (most recent call last):\n",
      "  File \"/home/ubuntu/.pyenv/versions/3.6.9/envs/python3/lib/python3.6/site-packages/scrapy/utils/defer.py\", line 120, in iter_errback\n",
      "    yield next(it)\n",
      "  File \"/home/ubuntu/.pyenv/versions/3.6.9/envs/python3/lib/python3.6/site-packages/scrapy/utils/python.py\", line 347, in __next__\n",
      "    return next(self.data)\n",
      "  File \"/home/ubuntu/.pyenv/versions/3.6.9/envs/python3/lib/python3.6/site-packages/scrapy/utils/python.py\", line 347, in __next__\n",
      "    return next(self.data)\n",
      "  File \"/home/ubuntu/.pyenv/versions/3.6.9/envs/python3/lib/python3.6/site-packages/scrapy/core/spidermw.py\", line 64, in _evaluate_iterable\n",
      "    for r in iterable:\n",
      "  File \"/home/ubuntu/.pyenv/versions/3.6.9/envs/python3/lib/python3.6/site-packages/scrapy/spidermiddlewares/offsite.py\", line 29, in process_spider_output\n",
      "    for x in result:\n",
      "  File \"/home/ubuntu/.pyenv/versions/3.6.9/envs/python3/lib/python3.6/site-packages/scrapy/core/spidermw.py\", line 64, in _evaluate_iterable\n",
      "    for r in iterable:\n",
      "  File \"/home/ubuntu/.pyenv/versions/3.6.9/envs/python3/lib/python3.6/site-packages/scrapy/spidermiddlewares/referer.py\", line 340, in <genexpr>\n",
      "    return (_set_referer(r) for r in result or ())\n",
      "  File \"/home/ubuntu/.pyenv/versions/3.6.9/envs/python3/lib/python3.6/site-packages/scrapy/core/spidermw.py\", line 64, in _evaluate_iterable\n",
      "    for r in iterable:\n",
      "  File \"/home/ubuntu/.pyenv/versions/3.6.9/envs/python3/lib/python3.6/site-packages/scrapy/spidermiddlewares/urllength.py\", line 37, in <genexpr>\n",
      "    return (r for r in result or () if _filter(r))\n",
      "  File \"/home/ubuntu/.pyenv/versions/3.6.9/envs/python3/lib/python3.6/site-packages/scrapy/core/spidermw.py\", line 64, in _evaluate_iterable\n",
      "    for r in iterable:\n",
      "  File \"/home/ubuntu/.pyenv/versions/3.6.9/envs/python3/lib/python3.6/site-packages/scrapy/spidermiddlewares/depth.py\", line 58, in <genexpr>\n",
      "    return (r for r in result or () if _filter(r))\n",
      "  File \"/home/ubuntu/.pyenv/versions/3.6.9/envs/python3/lib/python3.6/site-packages/scrapy/core/spidermw.py\", line 64, in _evaluate_iterable\n",
      "    for r in iterable:\n",
      "  File \"/home/ubuntu/python3/notebook/my_area/my_area/spiders/spider.py\", line 17, in parse_contents\n",
      "    item[\"title\"] = response.xpath('//*[@id=\"SE-34941879-7272-46c4-b494-066d46aaec3b\"]/text()').extract()[0]\n",
      "IndexError: list index out of range\n",
      "2020-08-17 17:44:18 [scrapy.core.scraper] ERROR: Spider error processing <GET https://m.blog.naver.com/mirae_saram/222044126140> (referer: https://m.naver.com/history/?menu=PLACE_09)\n",
      "Traceback (most recent call last):\n",
      "  File \"/home/ubuntu/.pyenv/versions/3.6.9/envs/python3/lib/python3.6/site-packages/scrapy/utils/defer.py\", line 120, in iter_errback\n",
      "    yield next(it)\n",
      "  File \"/home/ubuntu/.pyenv/versions/3.6.9/envs/python3/lib/python3.6/site-packages/scrapy/utils/python.py\", line 347, in __next__\n",
      "    return next(self.data)\n",
      "  File \"/home/ubuntu/.pyenv/versions/3.6.9/envs/python3/lib/python3.6/site-packages/scrapy/utils/python.py\", line 347, in __next__\n",
      "    return next(self.data)\n",
      "  File \"/home/ubuntu/.pyenv/versions/3.6.9/envs/python3/lib/python3.6/site-packages/scrapy/core/spidermw.py\", line 64, in _evaluate_iterable\n",
      "    for r in iterable:\n",
      "  File \"/home/ubuntu/.pyenv/versions/3.6.9/envs/python3/lib/python3.6/site-packages/scrapy/spidermiddlewares/offsite.py\", line 29, in process_spider_output\n",
      "    for x in result:\n",
      "  File \"/home/ubuntu/.pyenv/versions/3.6.9/envs/python3/lib/python3.6/site-packages/scrapy/core/spidermw.py\", line 64, in _evaluate_iterable\n",
      "    for r in iterable:\n",
      "  File \"/home/ubuntu/.pyenv/versions/3.6.9/envs/python3/lib/python3.6/site-packages/scrapy/spidermiddlewares/referer.py\", line 340, in <genexpr>\n",
      "    return (_set_referer(r) for r in result or ())\n",
      "  File \"/home/ubuntu/.pyenv/versions/3.6.9/envs/python3/lib/python3.6/site-packages/scrapy/core/spidermw.py\", line 64, in _evaluate_iterable\n",
      "    for r in iterable:\n",
      "  File \"/home/ubuntu/.pyenv/versions/3.6.9/envs/python3/lib/python3.6/site-packages/scrapy/spidermiddlewares/urllength.py\", line 37, in <genexpr>\n",
      "    return (r for r in result or () if _filter(r))\n",
      "  File \"/home/ubuntu/.pyenv/versions/3.6.9/envs/python3/lib/python3.6/site-packages/scrapy/core/spidermw.py\", line 64, in _evaluate_iterable\n",
      "    for r in iterable:\n",
      "  File \"/home/ubuntu/.pyenv/versions/3.6.9/envs/python3/lib/python3.6/site-packages/scrapy/spidermiddlewares/depth.py\", line 58, in <genexpr>\n",
      "    return (r for r in result or () if _filter(r))\n",
      "  File \"/home/ubuntu/.pyenv/versions/3.6.9/envs/python3/lib/python3.6/site-packages/scrapy/core/spidermw.py\", line 64, in _evaluate_iterable\n",
      "    for r in iterable:\n",
      "  File \"/home/ubuntu/python3/notebook/my_area/my_area/spiders/spider.py\", line 17, in parse_contents\n",
      "    item[\"title\"] = response.xpath('//*[@id=\"SE-34941879-7272-46c4-b494-066d46aaec3b\"]/text()').extract()[0]\n",
      "IndexError: list index out of range\n",
      "2020-08-17 17:44:18 [scrapy.core.engine] DEBUG: Crawled (200) <GET https://m.blog.naver.com/28ssan/222053439711> (referer: https://m.naver.com/history/?menu=PLACE_09)\n",
      "2020-08-17 17:44:18 [scrapy.core.scraper] DEBUG: Scraped from <200 https://m.blog.naver.com/hot2hot2seoul/222049999104>\n",
      "{'comment': '2',\n",
      " 'day': '2020. 8. 3. 16:40',\n",
      " 'link': 'https://m.blog.naver.com/hot2hot2seoul/222049999104',\n",
      " 'title': '낮에는 등산 맛집, 밤에는 야경 맛집! 매봉산 등산로&팔각정'}\n"
     ]
    },
    {
     "name": "stdout",
     "output_type": "stream",
     "text": [
      "2020-08-17 17:44:18 [scrapy.core.scraper] ERROR: Spider error processing <GET https://m.blog.naver.com/mcstkorea/222008543347> (referer: https://m.naver.com/history/?menu=PLACE_09)\n",
      "Traceback (most recent call last):\n",
      "  File \"/home/ubuntu/.pyenv/versions/3.6.9/envs/python3/lib/python3.6/site-packages/scrapy/utils/defer.py\", line 120, in iter_errback\n",
      "    yield next(it)\n",
      "  File \"/home/ubuntu/.pyenv/versions/3.6.9/envs/python3/lib/python3.6/site-packages/scrapy/utils/python.py\", line 347, in __next__\n",
      "    return next(self.data)\n",
      "  File \"/home/ubuntu/.pyenv/versions/3.6.9/envs/python3/lib/python3.6/site-packages/scrapy/utils/python.py\", line 347, in __next__\n",
      "    return next(self.data)\n",
      "  File \"/home/ubuntu/.pyenv/versions/3.6.9/envs/python3/lib/python3.6/site-packages/scrapy/core/spidermw.py\", line 64, in _evaluate_iterable\n",
      "    for r in iterable:\n",
      "  File \"/home/ubuntu/.pyenv/versions/3.6.9/envs/python3/lib/python3.6/site-packages/scrapy/spidermiddlewares/offsite.py\", line 29, in process_spider_output\n",
      "    for x in result:\n",
      "  File \"/home/ubuntu/.pyenv/versions/3.6.9/envs/python3/lib/python3.6/site-packages/scrapy/core/spidermw.py\", line 64, in _evaluate_iterable\n",
      "    for r in iterable:\n",
      "  File \"/home/ubuntu/.pyenv/versions/3.6.9/envs/python3/lib/python3.6/site-packages/scrapy/spidermiddlewares/referer.py\", line 340, in <genexpr>\n",
      "    return (_set_referer(r) for r in result or ())\n",
      "  File \"/home/ubuntu/.pyenv/versions/3.6.9/envs/python3/lib/python3.6/site-packages/scrapy/core/spidermw.py\", line 64, in _evaluate_iterable\n",
      "    for r in iterable:\n",
      "  File \"/home/ubuntu/.pyenv/versions/3.6.9/envs/python3/lib/python3.6/site-packages/scrapy/spidermiddlewares/urllength.py\", line 37, in <genexpr>\n",
      "    return (r for r in result or () if _filter(r))\n",
      "  File \"/home/ubuntu/.pyenv/versions/3.6.9/envs/python3/lib/python3.6/site-packages/scrapy/core/spidermw.py\", line 64, in _evaluate_iterable\n",
      "    for r in iterable:\n",
      "  File \"/home/ubuntu/.pyenv/versions/3.6.9/envs/python3/lib/python3.6/site-packages/scrapy/spidermiddlewares/depth.py\", line 58, in <genexpr>\n",
      "    return (r for r in result or () if _filter(r))\n",
      "  File \"/home/ubuntu/.pyenv/versions/3.6.9/envs/python3/lib/python3.6/site-packages/scrapy/core/spidermw.py\", line 64, in _evaluate_iterable\n",
      "    for r in iterable:\n",
      "  File \"/home/ubuntu/python3/notebook/my_area/my_area/spiders/spider.py\", line 17, in parse_contents\n",
      "    item[\"title\"] = response.xpath('//*[@id=\"SE-34941879-7272-46c4-b494-066d46aaec3b\"]/text()').extract()[0]\n",
      "IndexError: list index out of range\n",
      "2020-08-17 17:44:18 [scrapy.core.scraper] ERROR: Spider error processing <GET https://m.blog.naver.com/28ssan/222053439711> (referer: https://m.naver.com/history/?menu=PLACE_09)\n",
      "Traceback (most recent call last):\n",
      "  File \"/home/ubuntu/.pyenv/versions/3.6.9/envs/python3/lib/python3.6/site-packages/scrapy/utils/defer.py\", line 120, in iter_errback\n",
      "    yield next(it)\n",
      "  File \"/home/ubuntu/.pyenv/versions/3.6.9/envs/python3/lib/python3.6/site-packages/scrapy/utils/python.py\", line 347, in __next__\n",
      "    return next(self.data)\n",
      "  File \"/home/ubuntu/.pyenv/versions/3.6.9/envs/python3/lib/python3.6/site-packages/scrapy/utils/python.py\", line 347, in __next__\n",
      "    return next(self.data)\n",
      "  File \"/home/ubuntu/.pyenv/versions/3.6.9/envs/python3/lib/python3.6/site-packages/scrapy/core/spidermw.py\", line 64, in _evaluate_iterable\n",
      "    for r in iterable:\n",
      "  File \"/home/ubuntu/.pyenv/versions/3.6.9/envs/python3/lib/python3.6/site-packages/scrapy/spidermiddlewares/offsite.py\", line 29, in process_spider_output\n",
      "    for x in result:\n",
      "  File \"/home/ubuntu/.pyenv/versions/3.6.9/envs/python3/lib/python3.6/site-packages/scrapy/core/spidermw.py\", line 64, in _evaluate_iterable\n",
      "    for r in iterable:\n",
      "  File \"/home/ubuntu/.pyenv/versions/3.6.9/envs/python3/lib/python3.6/site-packages/scrapy/spidermiddlewares/referer.py\", line 340, in <genexpr>\n",
      "    return (_set_referer(r) for r in result or ())\n",
      "  File \"/home/ubuntu/.pyenv/versions/3.6.9/envs/python3/lib/python3.6/site-packages/scrapy/core/spidermw.py\", line 64, in _evaluate_iterable\n",
      "    for r in iterable:\n",
      "  File \"/home/ubuntu/.pyenv/versions/3.6.9/envs/python3/lib/python3.6/site-packages/scrapy/spidermiddlewares/urllength.py\", line 37, in <genexpr>\n",
      "    return (r for r in result or () if _filter(r))\n",
      "  File \"/home/ubuntu/.pyenv/versions/3.6.9/envs/python3/lib/python3.6/site-packages/scrapy/core/spidermw.py\", line 64, in _evaluate_iterable\n",
      "    for r in iterable:\n",
      "  File \"/home/ubuntu/.pyenv/versions/3.6.9/envs/python3/lib/python3.6/site-packages/scrapy/spidermiddlewares/depth.py\", line 58, in <genexpr>\n",
      "    return (r for r in result or () if _filter(r))\n",
      "  File \"/home/ubuntu/.pyenv/versions/3.6.9/envs/python3/lib/python3.6/site-packages/scrapy/core/spidermw.py\", line 64, in _evaluate_iterable\n",
      "    for r in iterable:\n",
      "  File \"/home/ubuntu/python3/notebook/my_area/my_area/spiders/spider.py\", line 17, in parse_contents\n",
      "    item[\"title\"] = response.xpath('//*[@id=\"SE-34941879-7272-46c4-b494-066d46aaec3b\"]/text()').extract()[0]\n",
      "IndexError: list index out of range\n",
      "2020-08-17 17:44:18 [scrapy.core.engine] INFO: Closing spider (finished)\n",
      "2020-08-17 17:44:18 [scrapy.extensions.feedexport] INFO: Stored csv feed (1 items) in: myarea.csv\n",
      "2020-08-17 17:44:18 [scrapy.statscollectors] INFO: Dumping Scrapy stats:\n",
      "{'downloader/request_bytes': 1694,\n",
      " 'downloader/request_count': 6,\n",
      " 'downloader/request_method_count/GET': 6,\n",
      " 'downloader/response_bytes': 181238,\n",
      " 'downloader/response_count': 6,\n",
      " 'downloader/response_status_count/200': 6,\n",
      " 'elapsed_time_seconds': 0.549009,\n",
      " 'finish_reason': 'finished',\n",
      " 'finish_time': datetime.datetime(2020, 8, 17, 8, 44, 18, 202373),\n",
      " 'item_scraped_count': 1,\n",
      " 'log_count/DEBUG': 7,\n",
      " 'log_count/ERROR': 4,\n",
      " 'log_count/INFO': 11,\n",
      " 'memusage/max': 55640064,\n",
      " 'memusage/startup': 55640064,\n",
      " 'request_depth_max': 1,\n",
      " 'response_received_count': 6,\n",
      " 'scheduler/dequeued': 6,\n",
      " 'scheduler/dequeued/memory': 6,\n",
      " 'scheduler/enqueued': 6,\n",
      " 'scheduler/enqueued/memory': 6,\n",
      " 'spider_exceptions/IndexError': 4,\n",
      " 'start_time': datetime.datetime(2020, 8, 17, 8, 44, 17, 653364)}\n",
      "2020-08-17 17:44:18 [scrapy.core.engine] INFO: Spider closed (finished)\n"
     ]
    }
   ],
   "source": [
    "!./run.sh"
   ]
  },
  {
   "cell_type": "code",
   "execution_count": 177,
   "metadata": {},
   "outputs": [
    {
     "data": {
      "text/html": [
       "<div>\n",
       "<style scoped>\n",
       "    .dataframe tbody tr th:only-of-type {\n",
       "        vertical-align: middle;\n",
       "    }\n",
       "\n",
       "    .dataframe tbody tr th {\n",
       "        vertical-align: top;\n",
       "    }\n",
       "\n",
       "    .dataframe thead th {\n",
       "        text-align: right;\n",
       "    }\n",
       "</style>\n",
       "<table border=\"1\" class=\"dataframe\">\n",
       "  <thead>\n",
       "    <tr style=\"text-align: right;\">\n",
       "      <th></th>\n",
       "      <th>comment</th>\n",
       "      <th>day</th>\n",
       "      <th>link</th>\n",
       "      <th>title</th>\n",
       "    </tr>\n",
       "  </thead>\n",
       "  <tbody>\n",
       "    <tr>\n",
       "      <th>0</th>\n",
       "      <td>2</td>\n",
       "      <td>2020. 8. 3. 16:40</td>\n",
       "      <td>https://m.blog.naver.com/hot2hot2seoul/2220499...</td>\n",
       "      <td>낮에는 등산 맛집, 밤에는 야경 맛집! 매봉산 등산로&amp;팔각정</td>\n",
       "    </tr>\n",
       "  </tbody>\n",
       "</table>\n",
       "</div>"
      ],
      "text/plain": [
       "   comment                day  \\\n",
       "0        2  2020. 8. 3. 16:40   \n",
       "\n",
       "                                                link  \\\n",
       "0  https://m.blog.naver.com/hot2hot2seoul/2220499...   \n",
       "\n",
       "                               title  \n",
       "0  낮에는 등산 맛집, 밤에는 야경 맛집! 매봉산 등산로&팔각정  "
      ]
     },
     "execution_count": 177,
     "metadata": {},
     "output_type": "execute_result"
    }
   ],
   "source": [
    "import pandas as pd\n",
    "\n",
    "df = pd.read_csv(\"my_area/myarea.csv\")\n",
    "df.tail(5)"
   ]
  },
  {
   "cell_type": "code",
   "execution_count": null,
   "metadata": {},
   "outputs": [],
   "source": []
  },
  {
   "cell_type": "code",
   "execution_count": 67,
   "metadata": {},
   "outputs": [
    {
     "data": {
      "text/plain": [
       "('mirae_saram', '222044126140')"
      ]
     },
     "execution_count": 67,
     "metadata": {},
     "output_type": "execute_result"
    }
   ],
   "source": [
    "# 블로그로 들어가서 좋아요 갯수 크롤링\n",
    "good_link = links[1].split('/')\n",
    "good_link[3], good_link[4]"
   ]
  },
  {
   "cell_type": "code",
   "execution_count": 68,
   "metadata": {},
   "outputs": [],
   "source": [
    "url = \"https://blog.like.naver.com/v1/search/contents?suppress_response_codes=\\\n",
    "        true&q=BLOG[{}_{}]&isDuplication=true\".format(good_link[3], good_link[4])\n",
    "response = requests.get(url)"
   ]
  },
  {
   "cell_type": "code",
   "execution_count": 69,
   "metadata": {},
   "outputs": [
    {
     "data": {
      "text/plain": [
       "'25'"
      ]
     },
     "execution_count": 69,
     "metadata": {},
     "output_type": "execute_result"
    }
   ],
   "source": [
    "ab = re.findall(\"\\\"count\\\":([\\d]+)\", response.text)[0] \n",
    "ab"
   ]
  },
  {
   "cell_type": "code",
   "execution_count": null,
   "metadata": {},
   "outputs": [],
   "source": []
  },
  {
   "cell_type": "code",
   "execution_count": null,
   "metadata": {},
   "outputs": [],
   "source": []
  },
  {
   "cell_type": "code",
   "execution_count": null,
   "metadata": {},
   "outputs": [],
   "source": []
  },
  {
   "cell_type": "code",
   "execution_count": null,
   "metadata": {},
   "outputs": [],
   "source": []
  },
  {
   "cell_type": "code",
   "execution_count": null,
   "metadata": {},
   "outputs": [],
   "source": []
  }
 ],
 "metadata": {
  "kernelspec": {
   "display_name": "Python 3",
   "language": "python",
   "name": "python3"
  },
  "language_info": {
   "codemirror_mode": {
    "name": "ipython",
    "version": 3
   },
   "file_extension": ".py",
   "mimetype": "text/x-python",
   "name": "python",
   "nbconvert_exporter": "python",
   "pygments_lexer": "ipython3",
   "version": "3.7.6"
  }
 },
 "nbformat": 4,
 "nbformat_minor": 4
}
